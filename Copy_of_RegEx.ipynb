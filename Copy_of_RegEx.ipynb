{
  "nbformat": 4,
  "nbformat_minor": 0,
  "metadata": {
    "colab": {
      "provenance": [],
      "include_colab_link": true
    },
    "kernelspec": {
      "name": "python3",
      "display_name": "Python 3"
    },
    "language_info": {
      "name": "python"
    }
  },
  "cells": [
    {
      "cell_type": "markdown",
      "metadata": {
        "id": "view-in-github",
        "colab_type": "text"
      },
      "source": [
        "<a href=\"https://colab.research.google.com/github/shalusam07/Data-Science-and-Machine-Learning/blob/main/Copy_of_RegEx.ipynb\" target=\"_parent\"><img src=\"https://colab.research.google.com/assets/colab-badge.svg\" alt=\"Open In Colab\"/></a>"
      ]
    },
    {
      "cell_type": "markdown",
      "source": [
        "1. Write a Python program to check that a string contains only a certain set of characters (in this case a-z, A-Z and 0-9).\n",
        "\n"
      ],
      "metadata": {
        "id": "fpQX9wBhb6ox"
      }
    },
    {
      "cell_type": "code",
      "source": [
        "import re"
      ],
      "metadata": {
        "id": "MZhipapFrNez"
      },
      "execution_count": null,
      "outputs": []
    },
    {
      "cell_type": "code",
      "source": [],
      "metadata": {
        "id": "sUl7N6S3FGQg"
      },
      "execution_count": null,
      "outputs": []
    },
    {
      "cell_type": "code",
      "execution_count": null,
      "metadata": {
        "id": "5HKhizIkbt59",
        "colab": {
          "base_uri": "https://localhost:8080/"
        },
        "outputId": "c6add997-5f37-4f33-bde8-9f0b954b3f56"
      },
      "outputs": [
        {
          "output_type": "stream",
          "name": "stdout",
          "text": [
            "True\n",
            "False\n",
            "False\n",
            "True\n",
            "True\n"
          ]
        }
      ],
      "source": [
        "def is_alpha_numeric(s):\n",
        "  alpha_numeric_regex = re.compile(r\"^[a-zA-Z0-9]+$\")\n",
        "  m = alpha_numeric_regex.match(s)\n",
        "  return not not m\n",
        "\n",
        "\n",
        "print(is_alpha_numeric('abccd134')) # True\n",
        "print(is_alpha_numeric('abccd13423:asd')) # False\n",
        "print(is_alpha_numeric('!@#23123')) # False\n",
        "print(is_alpha_numeric('23123')) # True\n",
        "print(is_alpha_numeric('abcd')) # True"
      ]
    },
    {
      "cell_type": "markdown",
      "source": [
        "2. Write a Python program that matches a string that has an a followed by zero or more b's.\n",
        "\n"
      ],
      "metadata": {
        "id": "rtdxRzltcRtS"
      }
    },
    {
      "cell_type": "code",
      "source": [],
      "metadata": {
        "id": "ZjdCBYZAcZGl"
      },
      "execution_count": null,
      "outputs": []
    },
    {
      "cell_type": "code",
      "source": [
        "def followed_by_b(s):\n",
        "  pattern = r\"^a[b]*\\w+\"\n",
        "  m = re.match(pattern,s)\n",
        "  if m :\n",
        "    return m.string\n",
        "  else:\n",
        "    return None\n",
        "\n",
        "\n",
        "\n",
        "print(followed_by_b(\"afeef\"))\n",
        "print(followed_by_b(\"bsdcas\"))\n",
        "print(followed_by_b(\"bbbsadcov\"))\n",
        "print(followed_by_b(\"abbcafesd\"))\n",
        "print(followed_by_b(\"abbc\"))"
      ],
      "metadata": {
        "colab": {
          "base_uri": "https://localhost:8080/"
        },
        "outputId": "3c8b2e5c-942a-4164-abeb-81762657e403",
        "id": "_SbqgKvBFNeG"
      },
      "execution_count": null,
      "outputs": [
        {
          "output_type": "stream",
          "name": "stdout",
          "text": [
            "afeef\n",
            "None\n",
            "None\n",
            "abbcafesd\n",
            "abbc\n"
          ]
        }
      ]
    },
    {
      "cell_type": "markdown",
      "source": [
        "3. Replace only the first occurrence of 5 with five for the given string\n",
        "\n"
      ],
      "metadata": {
        "id": "kyvbz3eNcZri"
      }
    },
    {
      "cell_type": "code",
      "source": [
        "ip = 'They ate 5 apples and 5 oranges'\n",
        "re.sub(r\"5\",\"five\",ip,1)\n"
      ],
      "metadata": {
        "id": "pgZy45dxcqSg",
        "outputId": "6f4f2502-d31b-4b46-fb41-efaad85c98ea",
        "colab": {
          "base_uri": "https://localhost:8080/",
          "height": 35
        }
      },
      "execution_count": null,
      "outputs": [
        {
          "output_type": "execute_result",
          "data": {
            "text/plain": [
              "'They ate five apples and 5 oranges'"
            ],
            "application/vnd.google.colaboratory.intrinsic+json": {
              "type": "string"
            }
          },
          "metadata": {},
          "execution_count": 4
        }
      ]
    },
    {
      "cell_type": "markdown",
      "source": [
        "4. Write a Python program that matches a string that has an a followed by three 'b'.\n",
        "\n"
      ],
      "metadata": {
        "id": "h_b1-o6ncuzM"
      }
    },
    {
      "cell_type": "code",
      "source": [
        "def match_three_b(s):\n",
        "  pattern = r\"^bbb\\w+$\"\n",
        "  m = re.match(pattern,s)\n",
        "  if m:\n",
        "    return m.string\n",
        "  else:\n",
        "    return None\n",
        "\n",
        "print(match_three_b('afeef'))\n",
        "print(match_three_b('bafeef'))\n",
        "print(match_three_b('bbbmore'))\n",
        "print(match_three_b('bbbb'))"
      ],
      "metadata": {
        "id": "eWIRl3LccqwE",
        "outputId": "06a76112-822e-4392-d63d-0fb9652adaf2",
        "colab": {
          "base_uri": "https://localhost:8080/"
        }
      },
      "execution_count": null,
      "outputs": [
        {
          "output_type": "stream",
          "name": "stdout",
          "text": [
            "None\n",
            "None\n",
            "bbbmore\n",
            "bbbb\n"
          ]
        }
      ]
    },
    {
      "cell_type": "markdown",
      "source": [
        "5. Write a Python program that matches a string that has an 'a' followed by anything ending in 'b'.\n",
        "\n"
      ],
      "metadata": {
        "id": "K2vPe01bc2LN"
      }
    },
    {
      "cell_type": "code",
      "source": [
        "def end_in_abs(s):\n",
        "  pattern = r\"^\\w*a.?b+$\"\n",
        "  m = re.match(pattern,s)\n",
        "  return m.string if m else None\n",
        "\n",
        "\n",
        "print(end_in_abs('afeef'))\n",
        "print(end_in_abs('afeefab'))\n",
        "print(end_in_abs('afeefa'))\n",
        "print(end_in_abs('afeefabbb'))\n",
        "print(end_in_abs('afeefabbbbbbbd'))\n",
        "\n"
      ],
      "metadata": {
        "id": "f8KfX59qc3UJ",
        "outputId": "c473a97e-e0a4-4407-cc55-54680425025b",
        "colab": {
          "base_uri": "https://localhost:8080/"
        }
      },
      "execution_count": null,
      "outputs": [
        {
          "output_type": "stream",
          "name": "stdout",
          "text": [
            "None\n",
            "afeefab\n",
            "None\n",
            "afeefabbb\n",
            "None\n"
          ]
        }
      ]
    },
    {
      "cell_type": "markdown",
      "source": [
        "6. Write a Python program to search for numbers (0-9) of length between 1 and 3 in a given string."
      ],
      "metadata": {
        "id": "NyL-DhqXdZi7"
      }
    },
    {
      "cell_type": "code",
      "source": [
        "re.finditer?"
      ],
      "metadata": {
        "id": "yFbavrnGKLAi"
      },
      "execution_count": null,
      "outputs": []
    },
    {
      "cell_type": "code",
      "source": [
        "txt=\"Exercises number 1, 12, 13, and 345 are important\"\n",
        "nums = re.findall(r\"\\d{1,3}\",txt)\n",
        "\n",
        "print(nums)"
      ],
      "metadata": {
        "id": "pWsu0HljdnKX",
        "colab": {
          "base_uri": "https://localhost:8080/"
        },
        "outputId": "3048fb9a-502e-4793-e8b5-1e79d32b09e6"
      },
      "execution_count": null,
      "outputs": [
        {
          "output_type": "stream",
          "name": "stdout",
          "text": [
            "['1', '12', '13', '345']\n"
          ]
        }
      ]
    },
    {
      "cell_type": "markdown",
      "source": [
        "7. Write a Python program to search for literal strings within a string.\\\n",
        "Sample text : 'The quick brown fox jumps over the lazy dog.' \\\n",
        "Searched words : 'fox', 'dog', 'horse'"
      ],
      "metadata": {
        "id": "aWaHWXFjdqy7"
      }
    },
    {
      "cell_type": "code",
      "source": [
        "txt = 'The quick brown fox jumps over the lazy dog.'\n",
        "\n",
        "patterns = ['fox','dog','horse']\n",
        "\n",
        "for p in patterns:\n",
        "    print('Searching for \"%s\" in \"%s\" -> ' % (p,txt))\n",
        "    m = re.search(p,txt)\n",
        "    if m:\n",
        "         print(\"Found\")\n",
        "    else:\n",
        "         print(\"Not found\")"
      ],
      "metadata": {
        "id": "bVAMeTMddnmf",
        "outputId": "88c479ba-782f-4591-d3e0-cd9991c94141",
        "colab": {
          "base_uri": "https://localhost:8080/"
        }
      },
      "execution_count": null,
      "outputs": [
        {
          "output_type": "stream",
          "name": "stdout",
          "text": [
            "Searching for \"fox\" in \"The quick brown fox jumps over the lazy dog.\" -> \n",
            "Found\n",
            "Searching for \"dog\" in \"The quick brown fox jumps over the lazy dog.\" -> \n",
            "Found\n",
            "Searching for \"horse\" in \"The quick brown fox jumps over the lazy dog.\" -> \n",
            "Not found\n"
          ]
        }
      ]
    },
    {
      "cell_type": "markdown",
      "source": [
        "8. Write a Python program to search for a literal string in a string and also find the location within the original string where the pattern occurs.\n",
        "\n",
        "Sample text : 'The quick brown fox jumps over the lazy dog.' \\\n",
        "Searched words : 'fox'"
      ],
      "metadata": {
        "id": "2cgZLc6Yd0sE"
      }
    },
    {
      "cell_type": "code",
      "source": [
        "txt = 'The quick brown fox jumps over the lazy dog'\n",
        "search = 'fox'\n",
        "\n",
        "s = re.search(search,txt)\n",
        "\n",
        "'%s is found between %d and %d in the string \"%s\"' % (search,*s.span(0),txt)\n"
      ],
      "metadata": {
        "id": "Tj1FCCx4d3zZ",
        "outputId": "e46721b7-2d76-4eb3-8ff5-a0336b98fa52",
        "colab": {
          "base_uri": "https://localhost:8080/",
          "height": 35
        }
      },
      "execution_count": null,
      "outputs": [
        {
          "output_type": "execute_result",
          "data": {
            "text/plain": [
              "'fox is found between 16 and 19 in the string \"The quick brown fox jumps over the lazy dog\"'"
            ],
            "application/vnd.google.colaboratory.intrinsic+json": {
              "type": "string"
            }
          },
          "metadata": {},
          "execution_count": 10
        }
      ]
    },
    {
      "cell_type": "markdown",
      "source": [
        "9.  Write a Python program to extract year, month and date from an URL"
      ],
      "metadata": {
        "id": "ixuwdsnvdtcP"
      }
    },
    {
      "cell_type": "code",
      "source": [
        "import re\n",
        "url1= \"https://www.washingtonpost.com/news/football-insider/wp/2016/09/02/odell-beckhams-fame-rests-on-one-stupid-little-ball-josh-norman-tells-author/\"\n",
        "pattern = re.compile(r'(\\d{4})\\/(\\d{2})\\/(\\d{2})')\n",
        "\n",
        "match = pattern.search(url1)\n",
        "\n",
        "if match:\n",
        "\n",
        "# for match in pattern.finditer(url1):\n",
        "  year = match.group(1)\n",
        "  month = match.group(2)\n",
        "  date = match.group(3)\n",
        "\n",
        "  print(\"Year : %s , Month : %s, Date : %s\" % (year,month,date))"
      ],
      "metadata": {
        "id": "uWA2_OfJeFpw",
        "colab": {
          "base_uri": "https://localhost:8080/"
        },
        "outputId": "4fec2402-0dd2-44a6-d7d8-acfd5ea1de22"
      },
      "execution_count": null,
      "outputs": [
        {
          "output_type": "stream",
          "name": "stdout",
          "text": [
            "Year : 2016 , Month : 09, Date : 02\n"
          ]
        }
      ]
    },
    {
      "cell_type": "markdown",
      "source": [
        "10. Write a Python program to find URLs in a string.\n",
        "\n"
      ],
      "metadata": {
        "id": "Qdob8Ojkea-W"
      }
    },
    {
      "cell_type": "code",
      "source": [
        "text = '<p>Contents :</p><a href=\"https://w3resource.com\">Python Examples</a><a href=\"http://github.com\">Even More Examples</a>'\n",
        "pattern = re.compile(r\"https?://[a-z0-9_]+.[a-z]{3}\")\n",
        "\n",
        "matches = pattern.finditer(text)\n",
        "\n",
        "print(matches)\n",
        "for m in pattern.finditer(text):\n",
        "  print(m.group(0))"
      ],
      "metadata": {
        "id": "d9KUcdQEeIJu",
        "outputId": "d5fa6746-97ac-4a93-a8a9-c37ee17881b7",
        "colab": {
          "base_uri": "https://localhost:8080/"
        }
      },
      "execution_count": null,
      "outputs": [
        {
          "output_type": "stream",
          "name": "stdout",
          "text": [
            "<callable_iterator object at 0x7ebecb3eda80>\n",
            "https://w3resource.com\n",
            "http://github.com\n"
          ]
        }
      ]
    },
    {
      "cell_type": "markdown",
      "source": [
        "11. Write a Python program to remove the parenthesis area in a string.\\\n",
        "\n",
        "Sample data : [\"example (.com)\", \"w3resource\", \"github (.com)\", \"stackoverflow (.com)\"] \\\n",
        "Expected Output: \\\n",
        "example  \\\n",
        "w3resource \\\n",
        "github  \\\n",
        "stackoverflow. \\\n",
        "\n"
      ],
      "metadata": {
        "id": "5mX_cCEFepSi"
      }
    },
    {
      "cell_type": "code",
      "source": [
        "text_list =  [\"example (.com)\", \"w3resource\", \"github(.com)\", \"stackoverflow(.com)\"]\n",
        "\n",
        "# this pattern in working for this scenario\n",
        "# I'm not satisfied i need better one\n",
        "\n",
        "# pattern = re.compile(r'\\w+')\n",
        "# for txt in text_list:\n",
        "#   m = pattern.match(txt)\n",
        "#   print(m)\n",
        "\n",
        "\n",
        "# new way\n",
        "# This will defenitly remove anything in between paranthesis\n",
        "pattern = re.compile(r'(\\w+).*(\\(.*\\))?')\n",
        "for txt in text_list:\n",
        "  m = pattern.search(txt)\n",
        "  print(m.group(1))\n"
      ],
      "metadata": {
        "id": "CNYOSWfLee_M",
        "outputId": "b9091943-d077-48cb-aa39-e9b3a8e760df",
        "colab": {
          "base_uri": "https://localhost:8080/"
        }
      },
      "execution_count": null,
      "outputs": [
        {
          "output_type": "stream",
          "name": "stdout",
          "text": [
            "example\n",
            "w3resource\n",
            "github\n",
            "stackoverflow\n"
          ]
        }
      ]
    },
    {
      "cell_type": "markdown",
      "source": [
        "12. Write a Python program to concatenate the consecutive numbers in a given string. \\\n",
        "\n",
        "Original string:  \\\n",
        "Enter at 1 20 Kearny Street. The security desk can direct you to floor 1 6. Please have your identification ready.  \\\n",
        "\n",
        "After concatenating the consecutive numbers in the said string:  \\\n",
        "Enter at 120 Kearny Street. The security desk can direct you to floor 16. Please have your identification ready."
      ],
      "metadata": {
        "id": "sRhveFHXe7nz"
      }
    },
    {
      "cell_type": "code",
      "source": [
        "txt = 'Enter at 1 20 Kearny Street. The security desk can direct you to floor 1 6. Please have your identification ready.'\n",
        "\n",
        "pattern = r'( ?\\d+)+'\n",
        "\n",
        "# My solution\n",
        "def repl(m):\n",
        "  raw_num = m.group(0)\n",
        "  concatenated_num = raw_num.replace(\" \",\"\")\n",
        "  print(concatenated_num)\n",
        "  return f\" {concatenated_num}\"\n",
        "\n",
        "re.sub(pattern,repl,txt)\n",
        "\n",
        "\n",
        "# Better solution\n",
        "# txt = \"Enter at 1 20 Kearny Street. The security desk can direct you to floor 1 6. Please have your identification ready.\"\n",
        "\n",
        "# # positive lookbehind (?<=.....)\n",
        "# # positive lookahead (?=.....)\n",
        "# new_txt = re.sub(r\"(?<=\\d)\\s(?=\\d)\", '', txt)\n",
        "\n",
        "# print(new_txt)\n"
      ],
      "metadata": {
        "id": "4dcBL0RTe_zP",
        "outputId": "622d0d96-6d2f-4e9a-ce35-6b71df47d3f8",
        "colab": {
          "base_uri": "https://localhost:8080/",
          "height": 70
        }
      },
      "execution_count": null,
      "outputs": [
        {
          "output_type": "stream",
          "name": "stdout",
          "text": [
            "120\n",
            "16\n"
          ]
        },
        {
          "output_type": "execute_result",
          "data": {
            "text/plain": [
              "'Enter at 120 Kearny Street. The security desk can direct you to floor 16. Please have your identification ready.'"
            ],
            "application/vnd.google.colaboratory.intrinsic+json": {
              "type": "string"
            }
          },
          "metadata": {},
          "execution_count": 14
        }
      ]
    }
  ]
}